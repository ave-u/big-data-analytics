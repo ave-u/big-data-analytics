{
 "cells": [
  {
   "cell_type": "code",
   "execution_count": 1,
   "metadata": {
    "collapsed": true
   },
   "outputs": [],
   "source": [
    "from pyspark import SparkContext\n",
    "import datetime\n",
    "from csv import reader\n",
    "import pandas            as pd\n",
    "import numpy             as np\n",
    "import matplotlib\n",
    "import matplotlib.pyplot as plt\n",
    "import sys #only needed to determine Python version number\n",
    "%matplotlib inline\n",
    "matplotlib.style.use('ggplot')"
   ]
  },
  {
   "cell_type": "markdown",
   "metadata": {},
   "source": [
    "### Data Clean"
   ]
  },
  {
   "cell_type": "code",
   "execution_count": 2,
   "metadata": {},
   "outputs": [],
   "source": [
    "sc = SparkContext()\n",
    "# use dataclean.py from here to clean data\n",
    "filepath    = r'./NYPD_Complaint_Data_Historic.csv'\n",
    "df = sc.textFile(filepath).map(lambda l: reader([l]).__next__())\n",
    "\n",
    "header = df.first() # csv header\n",
    "\n",
    "df = df.filter(lambda line: line != header).cache() # filter out header"
   ]
  },
  {
   "cell_type": "code",
   "execution_count": null,
   "metadata": {
    "collapsed": true
   },
   "outputs": [],
   "source": [
    "def transform(array):\n",
    "    array[1] = datetime.datetime.strptime(array[1], '%m/%d/%Y')\n",
    "    array[2] = datetime.datetime.strptime(array[2], '%H:%M:%S').time()\n",
    "    return array\n",
    "\n",
    "#replace year 1015\n",
    "def replaceYear2015to2015(array):\n",
    "    array[1] = array[1].replace('1015', '2015')\n",
    "    return array\n",
    "\n",
    "def replaceTime24to00(array):\n",
    "    array[2] = array[2].replace('24:00:00', '00:00:00')\n",
    "    return array\n",
    "\n",
    "t = df \\\n",
    "    .filter(lambda array: array[1] != '' and array[2] != '') \\\n",
    "    .map(replaceYear2015to2015) \\\n",
    "    .map(replaceTime24to00) \\\n",
    "    .map(transform) \\\n",
    "    .filter(lambda array: (array[1].year >= 2006 and array[1].year <= 2015))"
   ]
  },
  {
   "cell_type": "markdown",
   "metadata": {},
   "source": [
    "### Year with Crime Data"
   ]
  },
  {
   "cell_type": "code",
   "execution_count": null,
   "metadata": {},
   "outputs": [],
   "source": [
    "def transformYearAndCoordinate(x):\n",
    "    x[21] = float(x[21])\n",
    "    x[22] = float(x[22])\n",
    "    return (str(x[1].year), '[' + str(x[21]) + ','+ str(x[22]) + ']')\n",
    "\n",
    "yearWithCoordinate = t \\\n",
    "    .filter(lambda x: x[21] != '' and x[22] != '') \\\n",
    "    .map(transformYearAndCoordinate)\n",
    "\n",
    "for i in range(2006, 2016):\n",
    "    yearWithCoordinate \\\n",
    "    .filter(lambda x: x[0] == str(i)) \\\n",
    "    .saveAsTextFile('year' + str(i))\n",
    "            "
   ]
  },
  {
   "cell_type": "markdown",
   "metadata": {},
   "source": [
    "### Month with Crime Data"
   ]
  },
  {
   "cell_type": "code",
   "execution_count": null,
   "metadata": {
    "collapsed": true
   },
   "outputs": [],
   "source": [
    "def transformMonthAndCoordinate(x):\n",
    "    x[21] = float(x[21])\n",
    "    x[22] = float(x[22])\n",
    "    return (str(x[1].month), '[' + str(x[21]) + ','+ str(x[22]) + ']')\n",
    "\n",
    "monthWithCoordinate = t \\\n",
    "    .filter(lambda x: x[21] != '' and x[22] != '') \\\n",
    "    .map(transformMonthAndCoordinate)\n",
    "\n",
    "for i in range(1, 13):\n",
    "    monthWithCoordinate \\\n",
    "    .filter(lambda x: x[0] == str(i)) \\\n",
    "    .saveAsTextFile('month' + str(i))"
   ]
  },
  {
   "cell_type": "markdown",
   "metadata": {},
   "source": [
    "### Time with Crime Data"
   ]
  },
  {
   "cell_type": "code",
   "execution_count": null,
   "metadata": {
    "collapsed": true
   },
   "outputs": [],
   "source": [
    "def timeMap(x):\n",
    "    if x[2].hour >= 0 and x[2].hour < 6:\n",
    "        return ('1', '[' + str[21] + ',' + str[22] + ']')\n",
    "    elif x[2].hour >= 6 and x[2].hour < 12:\n",
    "        return ('2', '[' + str[21] + ',' + str[22] + ']')\n",
    "    elif x[2].hour >= 12 and x[2].hour < 18:\n",
    "        return ('3', '[' + str[21] + ',' + str[22] + ']')\n",
    "    else:\n",
    "        return ('4', '[' + str[21] + ',' + str[22] + ']')\n",
    "\n",
    "timeWithCoordinate = t \\\n",
    "    .filter(lambda x: x[21] != '' and x[22] != '') \\\n",
    "    .map(transformTimeAndCoordinate)\n",
    "\n",
    "for i in range(1, 5):\n",
    "    timeWithCoordinate \\\n",
    "    .filter(lambda x: x[0] == str(i)) \\\n",
    "    .saveAsTextFile('time' + str(i))"
   ]
  },
  {
   "cell_type": "markdown",
   "metadata": {},
   "source": [
    "### "
   ]
  }
 ],
 "metadata": {
  "kernelspec": {
   "display_name": "Python 3",
   "language": "python",
   "name": "python3"
  },
  "language_info": {
   "codemirror_mode": {
    "name": "ipython",
    "version": 3
   },
   "file_extension": ".py",
   "mimetype": "text/x-python",
   "name": "python",
   "nbconvert_exporter": "python",
   "pygments_lexer": "ipython3",
   "version": "3.5.2"
  }
 },
 "nbformat": 4,
 "nbformat_minor": 2
}
