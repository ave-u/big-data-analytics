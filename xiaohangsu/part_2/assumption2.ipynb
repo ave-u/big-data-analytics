{
 "cells": [
  {
   "cell_type": "code",
   "execution_count": 49,
   "metadata": {
    "collapsed": true
   },
   "outputs": [],
   "source": [
    "from pyspark import SparkContext\n",
    "import datetime\n",
    "from csv import reader\n",
    "import pandas            as pd\n",
    "import numpy             as np\n",
    "import matplotlib\n",
    "import matplotlib.pyplot as plt\n",
    "import sys #only needed to determine Python version number\n",
    "%matplotlib inline\n",
    "matplotlib.style.use('ggplot')"
   ]
  },
  {
   "cell_type": "markdown",
   "metadata": {},
   "source": [
    "### Data Clean"
   ]
  },
  {
   "cell_type": "code",
   "execution_count": 50,
   "metadata": {
    "collapsed": true
   },
   "outputs": [],
   "source": [
    "sc = SparkContext()\n",
    "# use dataclean.py from here to clean data\n",
    "filepath    = r'./NYPD_Complaint_Data_Historic.csv'\n",
    "df = sc.textFile(filepath).map(lambda l: reader([l]).__next__())\n",
    "\n",
    "header = df.first() # csv header\n",
    "\n",
    "df = df.filter(lambda line: line != header).cache() # filter out header"
   ]
  },
  {
   "cell_type": "code",
   "execution_count": 51,
   "metadata": {
    "collapsed": true
   },
   "outputs": [],
   "source": [
    "def transform(array):\n",
    "    array[1] = datetime.datetime.strptime(array[1], '%m/%d/%Y')\n",
    "    array[2] = datetime.datetime.strptime(array[2], '%H:%M:%S').time()\n",
    "    return array\n",
    "\n",
    "#replace year 1015\n",
    "def replaceYear2015to2015(array):\n",
    "    array[1] = array[1].replace('1015', '2015')\n",
    "    return array\n",
    "\n",
    "def replaceTime24to00(array):\n",
    "    array[2] = array[2].replace('24:00:00', '00:00:00')\n",
    "    return array\n",
    "\n",
    "t = df \\\n",
    "    .filter(lambda array: array[1] != '' and array[2] != '') \\\n",
    "    .map(replaceYear2015to2015) \\\n",
    "    .map(replaceTime24to00) \\\n",
    "    .map(transform) \\\n",
    "    .filter(lambda array: (array[1].year >= 2006 and array[1].year <= 2015))"
   ]
  },
  {
   "cell_type": "markdown",
   "metadata": {},
   "source": [
    "### Analysis"
   ]
  },
  {
   "cell_type": "code",
   "execution_count": 52,
   "metadata": {
    "collapsed": true
   },
   "outputs": [],
   "source": [
    "def timeMap(x):\n",
    "    if x[2].hour >= 0 and x[2].hour < 6:\n",
    "        return ('Midnight',1)\n",
    "    elif x[2].hour >= 6 and x[2].hour < 12:\n",
    "        return ('Morning', 1)\n",
    "    elif x[2].hour >= 12 and x[2].hour < 18:\n",
    "        return ('Afternoon', 1)\n",
    "    else:\n",
    "        return ('Evening', 1)\n",
    "\n",
    "\n",
    "timeCount = t \\\n",
    "    .map(timeMap) \\\n",
    "    .reduceByKey(lambda x, y: x + y) \\"
   ]
  },
  {
   "cell_type": "code",
   "execution_count": 53,
   "metadata": {},
   "outputs": [
    {
     "data": {
      "text/plain": [
       "[('Afternoon', 1676800),\n",
       " ('Morning', 924952),\n",
       " ('Midnight', 850490),\n",
       " ('Evening', 1629512)]"
      ]
     },
     "execution_count": 53,
     "metadata": {},
     "output_type": "execute_result"
    }
   ],
   "source": [
    "time = timeCount.collect()\n",
    "time"
   ]
  },
  {
   "cell_type": "code",
   "execution_count": 54,
   "metadata": {
    "collapsed": true
   },
   "outputs": [],
   "source": [
    "timeLabel = np.array(time)[:,0]\n",
    "count = np.array(time)[:,1]"
   ]
  },
  {
   "cell_type": "code",
   "execution_count": 70,
   "metadata": {},
   "outputs": [
    {
     "data": {
      "image/png": "[encoded data removed]",
      "text/plain": [
       "<matplotlib.figure.Figure at 0x7fd43d5abd68>"
      ]
     },
     "metadata": {},
     "output_type": "display_data"
    }
   ],
   "source": [
    "fig, ax = plt.subplots()\n",
    "ax.pie(count, labels=timeLabel, startangle=90)\n",
    "ax.axis('equal')  # Equal aspect ratio ensures that pie is drawn as a circle.\n",
    "fig.set_size_inches(10,10)"
   ]
  },
  {
   "cell_type": "code",
   "execution_count": 56,
   "metadata": {
    "collapsed": true
   },
   "outputs": [],
   "source": [
    "def timeCrimeMap(x):\n",
    "    if x[2].hour >= 0 and x[2].hour < 6:\n",
    "        return ('1 ' + x[11],1 / 850490)\n",
    "    elif x[2].hour >= 6 and x[2].hour < 12:\n",
    "        return ('2 ' + x[11], 1 / 924952)\n",
    "    elif x[2].hour >= 12 and x[2].hour < 18:\n",
    "        return ('3 ' + x[11], 1 / 1676800)\n",
    "    else:\n",
    "        return ('4 ' + x[11], 1 / 1629512)\n",
    "    \n",
    "timeCrimeCount = t \\\n",
    "    .map(timeCrimeMap) \\\n",
    "    .reduceByKey(lambda x, y: x + y) \\\n",
    "    .map(lambda x: (x[0].split(' ')[0], x[0].split(' ')[1], x[1]))"
   ]
  },
  {
   "cell_type": "code",
   "execution_count": 57,
   "metadata": {
    "scrolled": true
   },
   "outputs": [
    {
     "data": {
      "text/plain": [
       "array([(1, b'FELONY',  0.34791356), (1, b'MISDEMEANOR',  0.57625134),\n",
       "       (1, b'VIOLATION',  0.07583511), (2, b'FELONY',  0.31842842),\n",
       "       (2, b'MISDEMEANOR',  0.53427854), (2, b'VIOLATION',  0.14729305),\n",
       "       (3, b'FELONY',  0.2935365 ), (3, b'MISDEMEANOR',  0.5737494 ),\n",
       "       (3, b'VIOLATION',  0.1327141 ), (4, b'FELONY',  0.2908294 ),\n",
       "       (4, b'MISDEMEANOR',  0.59217729), (4, b'VIOLATION',  0.11699331)], \n",
       "      dtype=[('time', '<i8'), ('ctype', 'S15'), ('percent', '<f8')])"
      ]
     },
     "execution_count": 57,
     "metadata": {},
     "output_type": "execute_result"
    }
   ],
   "source": [
    "timeCrime = np.sort(np.array(timeCrimeCount.collect(), dtype=[('time', int), ('ctype', 'S15'), ('percent', float)]), order='time')\n",
    "timeCrime\n",
    "# draw this image on Excel"
   ]
  },
  {
   "cell_type": "code",
   "execution_count": 46,
   "metadata": {
    "collapsed": true
   },
   "outputs": [],
   "source": [
    "sc.stop()"
   ]
  }
 ],
 "metadata": {
  "kernelspec": {
   "display_name": "Python 3",
   "language": "python",
   "name": "python3"
  },
  "language_info": {
   "codemirror_mode": {
    "name": "ipython",
    "version": 3
   },
   "file_extension": ".py",
   "mimetype": "text/x-python",
   "name": "python",
   "nbconvert_exporter": "python",
   "pygments_lexer": "ipython3",
   "version": "3.5.2"
  }
 },
 "nbformat": 4,
 "nbformat_minor": 2
}
