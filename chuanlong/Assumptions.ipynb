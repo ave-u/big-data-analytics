{
 "cells": [
  {
   "cell_type": "code",
   "execution_count": 11,
   "metadata": {},
   "outputs": [],
   "source": [
    "from pyspark import SparkContext\n",
    "import datetime\n",
    "from csv import reader\n",
    "import pandas            as pd\n",
    "import numpy             as np\n",
    "import matplotlib\n",
    "import matplotlib.pyplot as plt\n",
    "import sys #only needed to determine Python version number\n",
    "%matplotlib inline\n",
    "matplotlib.style.use('ggplot')"
   ]
  },
  {
   "cell_type": "code",
   "execution_count": 12,
   "metadata": {},
   "outputs": [],
   "source": [
    "sc = SparkContext()\n",
    "filepath = r'./NYPD_Complaint_Data_Historic.csv'\n",
    "df = sc.textFile(filepath).map(lambda l: reader([l]).__next__())\n",
    "header = df.first()\n",
    "df = df.filter(lambda line: line != header).cache() # filter out header"
   ]
  },
  {
   "cell_type": "markdown",
   "metadata": {},
   "source": [
    "### Data Cleaning"
   ]
  },
  {
   "cell_type": "code",
   "execution_count": 13,
   "metadata": {},
   "outputs": [],
   "source": [
    "def transform(array):\n",
    "    array[1] = datetime.datetime.strptime(array[1], '%m/%d/%Y')\n",
    "    array[2] = datetime.datetime.strptime(array[2], '%H:%M:%S').time()\n",
    "    return array\n",
    "\n",
    "#replace year 1015\n",
    "def replaceYear2015to2015(array):\n",
    "    array[1] = array[1].replace('1015', '2015')\n",
    "    return array\n",
    "\n",
    "def replaceTime24to00(array):\n",
    "    array[2] = array[2].replace('24:00:00', '00:00:00')\n",
    "    return array\n",
    "\n",
    "t = df.filter(lambda array: array[1] != '' and array[2] != '') \\\n",
    "    .map(replaceYear2015to2015) \\\n",
    "    .map(replaceTime24to00) \\\n",
    "    .map(transform) \\\n",
    "    .filter(lambda array: (array[1].year >= 2006 and array[1].year <= 2015))"
   ]
  },
  {
   "cell_type": "code",
   "execution_count": 14,
   "metadata": {},
   "outputs": [],
   "source": [
    "def timeMap(x):\n",
    "    if x[0].hour >= 0 and x[0].hour < 6:\n",
    "        return ('Midnight',1)\n",
    "    elif x[0].hour >= 6 and x[0].hour < 12:\n",
    "        return ('Morning', 1)\n",
    "    elif x[0].hour >= 12 and x[0].hour < 18:\n",
    "        return ('Afternoon', 1)\n",
    "    else:\n",
    "        return ('Evening', 1)\n",
    "\n",
    "timeCount = t.map(timeMap) \\\n",
    "            .reduceByKey(lambda x, y: x + y) \\"
   ]
  },
  {
   "cell_type": "markdown",
   "metadata": {},
   "source": [
    "### Assumption 1: The correlation about the time period and the crime inside the residence"
   ]
  },
  {
   "cell_type": "code",
   "execution_count": 16,
   "metadata": {},
   "outputs": [],
   "source": [
    "# This operation return the statistic data that crime occur inside the residence\n",
    "assump_1 = t.map(lambda x: (x[2], x[15], x[16]))\\\n",
    "            .filter(lambda x: 'INSIDE' in str(x[1]) and 'RESIDENCE' in str(x[2]))\\\n",
    "            .map(timeMap)\\\n",
    "            .reduceByKey(lambda x, y: x + y)"
   ]
  },
  {
   "cell_type": "code",
   "execution_count": 17,
   "metadata": {},
   "outputs": [],
   "source": [
    "assump_1_data = assump_1.collect()"
   ]
  },
  {
   "cell_type": "code",
   "execution_count": 18,
   "metadata": {},
   "outputs": [
    {
     "data": {
      "text/plain": [
       "[('Afternoon', 465993),\n",
       " ('Morning', 356396),\n",
       " ('Midnight', 243796),\n",
       " ('Evening', 469017)]"
      ]
     },
     "execution_count": 18,
     "metadata": {},
     "output_type": "execute_result"
    }
   ],
   "source": [
    "assump_1_data"
   ]
  },
  {
   "cell_type": "code",
   "execution_count": 19,
   "metadata": {},
   "outputs": [
    {
     "data": {
      "text/plain": [
       "list"
      ]
     },
     "execution_count": 19,
     "metadata": {},
     "output_type": "execute_result"
    }
   ],
   "source": [
    "type(assump_1_data)"
   ]
  },
  {
   "cell_type": "code",
   "execution_count": 21,
   "metadata": {},
   "outputs": [
    {
     "data": {
      "image/png": "[encoded data removed]",
      "text/plain": [
       "<matplotlib.figure.Figure at 0x7f8719445390>"
      ]
     },
     "metadata": {},
     "output_type": "display_data"
    }
   ],
   "source": [
    "fig, ax = plt.subplots()\n",
    "ax.pie(np.array(assump_1_data)[:, 1], labels = np.array(assump_1_data)[:, 0], startangle=90)\n",
    "ax.axis('equal')  # Equal aspect ratio ensures that pie is drawn as a circle.\n",
    "fig.set_size_inches(10,10)"
   ]
  },
  {
   "cell_type": "code",
   "execution_count": null,
   "metadata": {
    "collapsed": true
   },
   "outputs": [],
   "source": []
  }
 ],
 "metadata": {
  "kernelspec": {
   "display_name": "Python 3",
   "language": "python",
   "name": "python3"
  },
  "language_info": {
   "codemirror_mode": {
    "name": "ipython",
    "version": 3
   },
   "file_extension": ".py",
   "mimetype": "text/x-python",
   "name": "python",
   "nbconvert_exporter": "python",
   "pygments_lexer": "ipython3",
   "version": "3.5.2"
  }
 },
 "nbformat": 4,
 "nbformat_minor": 2
}
