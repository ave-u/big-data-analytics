{
 "cells": [
  {
   "cell_type": "code",
   "execution_count": 17,
   "metadata": {
    "collapsed": true
   },
   "outputs": [],
   "source": [
    "import pandas as pd\n",
    "import numpy as np\n",
    "import matplotlib.pyplot as plt"
   ]
  },
  {
   "cell_type": "code",
   "execution_count": 18,
   "metadata": {
    "collapsed": false
   },
   "outputs": [],
   "source": [
    "# Load the dataset from CSV file\n",
    "file_path = '/Users/chuanlong/Desktop/Big Data/Project/NYPD_Complaint_Data_Historic.csv'\n",
    "reader = pd.read_csv(file_path, dtype = {'PREM_TYP_DESC':str, 'PARKS_NM':str})"
   ]
  },
  {
   "cell_type": "code",
   "execution_count": 19,
   "metadata": {
    "collapsed": false
   },
   "outputs": [
    {
     "data": {
      "text/plain": [
       "array(['CMPLNT_NUM', 'CMPLNT_FR_DT', 'CMPLNT_FR_TM', 'CMPLNT_TO_DT',\n",
       "       'CMPLNT_TO_TM', 'RPT_DT', 'KY_CD', 'OFNS_DESC', 'PD_CD', 'PD_DESC',\n",
       "       'CRM_ATPT_CPTD_CD', 'LAW_CAT_CD', 'JURIS_DESC', 'BORO_NM',\n",
       "       'ADDR_PCT_CD', 'LOC_OF_OCCUR_DESC', 'PREM_TYP_DESC', 'PARKS_NM',\n",
       "       'HADEVELOPT', 'X_COORD_CD', 'Y_COORD_CD', 'Latitude', 'Longitude',\n",
       "       'Lat_Lon'], dtype=object)"
      ]
     },
     "execution_count": 19,
     "metadata": {},
     "output_type": "execute_result"
    }
   ],
   "source": [
    "# df.describe()\n",
    "df.columns.values"
   ]
  },
  {
   "cell_type": "code",
   "execution_count": 20,
   "metadata": {
    "collapsed": false
   },
   "outputs": [
    {
     "data": {
      "text/html": [
       "<div>\n",
       "<table border=\"1\" class=\"dataframe\">\n",
       "  <thead>\n",
       "    <tr style=\"text-align: right;\">\n",
       "      <th></th>\n",
       "      <th>CMPLNT_NUM</th>\n",
       "      <th>KY_CD</th>\n",
       "      <th>PD_CD</th>\n",
       "      <th>ADDR_PCT_CD</th>\n",
       "      <th>X_COORD_CD</th>\n",
       "      <th>Y_COORD_CD</th>\n",
       "      <th>Latitude</th>\n",
       "      <th>Longitude</th>\n",
       "    </tr>\n",
       "  </thead>\n",
       "  <tbody>\n",
       "    <tr>\n",
       "      <th>count</th>\n",
       "      <td>5.101231e+06</td>\n",
       "      <td>5.101231e+06</td>\n",
       "      <td>5.096657e+06</td>\n",
       "      <td>5.100841e+06</td>\n",
       "      <td>4.913085e+06</td>\n",
       "      <td>4.913085e+06</td>\n",
       "      <td>4.913085e+06</td>\n",
       "      <td>4.913085e+06</td>\n",
       "    </tr>\n",
       "    <tr>\n",
       "      <th>mean</th>\n",
       "      <td>5.499733e+08</td>\n",
       "      <td>2.932191e+02</td>\n",
       "      <td>4.179772e+02</td>\n",
       "      <td>6.346322e+01</td>\n",
       "      <td>1.004610e+06</td>\n",
       "      <td>2.068627e+05</td>\n",
       "      <td>4.073443e+01</td>\n",
       "      <td>-7.392651e+01</td>\n",
       "    </tr>\n",
       "    <tr>\n",
       "      <th>std</th>\n",
       "      <td>2.597636e+08</td>\n",
       "      <td>1.480821e+02</td>\n",
       "      <td>2.179312e+02</td>\n",
       "      <td>3.444424e+01</td>\n",
       "      <td>2.144742e+04</td>\n",
       "      <td>3.047765e+04</td>\n",
       "      <td>8.365685e-02</td>\n",
       "      <td>7.734681e-02</td>\n",
       "    </tr>\n",
       "    <tr>\n",
       "      <th>min</th>\n",
       "      <td>1.000002e+08</td>\n",
       "      <td>1.010000e+02</td>\n",
       "      <td>1.010000e+02</td>\n",
       "      <td>1.000000e+00</td>\n",
       "      <td>9.133190e+05</td>\n",
       "      <td>1.208290e+05</td>\n",
       "      <td>4.049806e+01</td>\n",
       "      <td>-7.425508e+01</td>\n",
       "    </tr>\n",
       "    <tr>\n",
       "      <th>25%</th>\n",
       "      <td>3.250451e+08</td>\n",
       "      <td>1.170000e+02</td>\n",
       "      <td>2.540000e+02</td>\n",
       "      <td>4.000000e+01</td>\n",
       "      <td>9.916990e+05</td>\n",
       "      <td>1.841370e+05</td>\n",
       "      <td>4.067202e+01</td>\n",
       "      <td>-7.397313e+01</td>\n",
       "    </tr>\n",
       "    <tr>\n",
       "      <th>50%</th>\n",
       "      <td>5.499458e+08</td>\n",
       "      <td>3.410000e+02</td>\n",
       "      <td>3.970000e+02</td>\n",
       "      <td>6.300000e+01</td>\n",
       "      <td>1.004259e+06</td>\n",
       "      <td>2.055080e+05</td>\n",
       "      <td>4.073072e+01</td>\n",
       "      <td>-7.392778e+01</td>\n",
       "    </tr>\n",
       "    <tr>\n",
       "      <th>75%</th>\n",
       "      <td>7.748865e+08</td>\n",
       "      <td>3.510000e+02</td>\n",
       "      <td>6.370000e+02</td>\n",
       "      <td>9.400000e+01</td>\n",
       "      <td>1.016268e+06</td>\n",
       "      <td>2.351540e+05</td>\n",
       "      <td>4.081212e+01</td>\n",
       "      <td>-7.388437e+01</td>\n",
       "    </tr>\n",
       "    <tr>\n",
       "      <th>max</th>\n",
       "      <td>9.999999e+08</td>\n",
       "      <td>8.810000e+02</td>\n",
       "      <td>9.750000e+02</td>\n",
       "      <td>1.230000e+02</td>\n",
       "      <td>1.067298e+06</td>\n",
       "      <td>2.718200e+05</td>\n",
       "      <td>4.091272e+01</td>\n",
       "      <td>-7.370032e+01</td>\n",
       "    </tr>\n",
       "  </tbody>\n",
       "</table>\n",
       "</div>"
      ],
      "text/plain": [
       "         CMPLNT_NUM         KY_CD         PD_CD   ADDR_PCT_CD    X_COORD_CD  \\\n",
       "count  5.101231e+06  5.101231e+06  5.096657e+06  5.100841e+06  4.913085e+06   \n",
       "mean   5.499733e+08  2.932191e+02  4.179772e+02  6.346322e+01  1.004610e+06   \n",
       "std    2.597636e+08  1.480821e+02  2.179312e+02  3.444424e+01  2.144742e+04   \n",
       "min    1.000002e+08  1.010000e+02  1.010000e+02  1.000000e+00  9.133190e+05   \n",
       "25%    3.250451e+08  1.170000e+02  2.540000e+02  4.000000e+01  9.916990e+05   \n",
       "50%    5.499458e+08  3.410000e+02  3.970000e+02  6.300000e+01  1.004259e+06   \n",
       "75%    7.748865e+08  3.510000e+02  6.370000e+02  9.400000e+01  1.016268e+06   \n",
       "max    9.999999e+08  8.810000e+02  9.750000e+02  1.230000e+02  1.067298e+06   \n",
       "\n",
       "         Y_COORD_CD      Latitude     Longitude  \n",
       "count  4.913085e+06  4.913085e+06  4.913085e+06  \n",
       "mean   2.068627e+05  4.073443e+01 -7.392651e+01  \n",
       "std    3.047765e+04  8.365685e-02  7.734681e-02  \n",
       "min    1.208290e+05  4.049806e+01 -7.425508e+01  \n",
       "25%    1.841370e+05  4.067202e+01 -7.397313e+01  \n",
       "50%    2.055080e+05  4.073072e+01 -7.392778e+01  \n",
       "75%    2.351540e+05  4.081212e+01 -7.388437e+01  \n",
       "max    2.718200e+05  4.091272e+01 -7.370032e+01  "
      ]
     },
     "execution_count": 20,
     "metadata": {},
     "output_type": "execute_result"
    }
   ],
   "source": [
    "df.describe()"
   ]
  },
  {
   "cell_type": "code",
   "execution_count": null,
   "metadata": {
    "collapsed": true
   },
   "outputs": [],
   "source": []
  }
 ],
 "metadata": {
  "kernelspec": {
   "display_name": "Python 3",
   "language": "python",
   "name": "python3"
  },
  "language_info": {
   "codemirror_mode": {
    "name": "ipython",
    "version": 3
   },
   "file_extension": ".py",
   "mimetype": "text/x-python",
   "name": "python",
   "nbconvert_exporter": "python",
   "pygments_lexer": "ipython3",
   "version": "3.6.0"
  }
 },
 "nbformat": 4,
 "nbformat_minor": 2
}
